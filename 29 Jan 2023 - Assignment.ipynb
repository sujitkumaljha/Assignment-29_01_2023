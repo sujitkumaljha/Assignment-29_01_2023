{
 "cells": [
  {
   "cell_type": "code",
   "execution_count": 19,
   "id": "a045179e-2151-4129-b9bd-d55dc238e068",
   "metadata": {},
   "outputs": [
    {
     "data": {
      "text/plain": [
       "'Guido van Rossum'"
      ]
     },
     "execution_count": 19,
     "metadata": {},
     "output_type": "execute_result"
    }
   ],
   "source": [
    "Who_developed_Python_Programming_Language"
   ]
  },
  {
   "cell_type": "code",
   "execution_count": 21,
   "id": "a3d8cc72-266e-4c8a-905c-3cb1766d4774",
   "metadata": {},
   "outputs": [
    {
     "data": {
      "text/plain": [
       "'Object-oriented programming and structured programming'"
      ]
     },
     "execution_count": 21,
     "metadata": {},
     "output_type": "execute_result"
    }
   ],
   "source": [
    "Which_type_of_Programming_does_Python_support"
   ]
  },
  {
   "cell_type": "code",
   "execution_count": 23,
   "id": "61002109-bfbe-4639-9aef-8379b50f66fc",
   "metadata": {},
   "outputs": [
    {
     "data": {
      "text/plain": [
       "'Yes, Python is a case-sensitive language'"
      ]
     },
     "execution_count": 23,
     "metadata": {},
     "output_type": "execute_result"
    }
   ],
   "source": [
    "Is_Python_case_sensitive_when_dealing_with_identifiers"
   ]
  },
  {
   "cell_type": "code",
   "execution_count": 25,
   "id": "3d794a62-5964-4fad-8d49-6f0bc957de25",
   "metadata": {},
   "outputs": [
    {
     "data": {
      "text/plain": [
       "'.py'"
      ]
     },
     "execution_count": 25,
     "metadata": {},
     "output_type": "execute_result"
    }
   ],
   "source": [
    "What_is_the_correct_extension_of_the_Python_file"
   ]
  },
  {
   "cell_type": "code",
   "execution_count": 27,
   "id": "43b5b4bf-f2ee-4acb-baef-3da9a0c4cb2c",
   "metadata": {},
   "outputs": [
    {
     "data": {
      "text/plain": [
       "'Python is an interpreted language'"
      ]
     },
     "execution_count": 27,
     "metadata": {},
     "output_type": "execute_result"
    }
   ],
   "source": [
    "Is_Python_code_complied_or_interpreted"
   ]
  },
  {
   "cell_type": "code",
   "execution_count": 29,
   "id": "0f68a50d-9113-4e85-b5db-b4c87108e53a",
   "metadata": {},
   "outputs": [
    {
     "data": {
      "text/plain": [
       "'Indentation is used to define a block of code in python'"
      ]
     },
     "execution_count": 29,
     "metadata": {},
     "output_type": "execute_result"
    }
   ],
   "source": [
    "Name_a_few_blocks_of_code_used_to_define_in_Python_language"
   ]
  },
  {
   "cell_type": "code",
   "execution_count": 33,
   "id": "3531141f-d43e-41c0-b503-f9b2d7830bbd",
   "metadata": {},
   "outputs": [
    {
     "data": {
      "text/plain": [
       "'Hash character'"
      ]
     },
     "execution_count": 33,
     "metadata": {},
     "output_type": "execute_result"
    }
   ],
   "source": [
    "State_a_character_used_to_give_single_line_comments_in_Python"
   ]
  },
  {
   "cell_type": "code",
   "execution_count": 40,
   "id": "28627883-f29d-489f-bd53-bd52fc78c564",
   "metadata": {},
   "outputs": [
    {
     "data": {
      "text/plain": [
       "'The function sys. version can help us to find the version of python that we are currently workingon'"
      ]
     },
     "execution_count": 40,
     "metadata": {},
     "output_type": "execute_result"
    }
   ],
   "source": [
    "Mention_functions_which_can_helps_us_to_find_version_of_python_that_we_are_currently_working_on"
   ]
  },
  {
   "cell_type": "code",
   "execution_count": 43,
   "id": "90987d20-4c3e-44a1-8063-f7d20b413e72",
   "metadata": {},
   "outputs": [
    {
     "data": {
      "text/plain": [
       "'Python supports to make anonymous functions which are not bound to a name(@ runtime). It usesa construct called lambda'"
      ]
     },
     "execution_count": 43,
     "metadata": {},
     "output_type": "execute_result"
    }
   ],
   "source": [
    "Python_supports_the_creation_of_anonymous_functions_at_runtime_using_a_construct_called"
   ]
  },
  {
   "cell_type": "code",
   "execution_count": 45,
   "id": "cbbd4372-2a8a-4d7a-b661-44f14aa45575",
   "metadata": {},
   "outputs": [
    {
     "data": {
      "text/plain": [
       "'preferred installer program'"
      ]
     },
     "execution_count": 45,
     "metadata": {},
     "output_type": "execute_result"
    }
   ],
   "source": [
    "What_does_pip_stand_for_python"
   ]
  },
  {
   "cell_type": "code",
   "execution_count": 47,
   "id": "a9800d41-900c-498e-99d7-81df56910fae",
   "metadata": {},
   "outputs": [
    {
     "data": {
      "text/plain": [
       "('abs() - Returns the absolute value of a number',\n",
       " 'all() - Returns True if all items in an iterable object are true',\n",
       " 'sum() - Sums the items of an iterator',\n",
       " 'tuple() - Returns a tuple',\n",
       " 'type() - Returns the type of an object',\n",
       " 'min() - Returns the smallest item in an iterable',\n",
       " 'max() - Returns the largest item in an iterable')"
      ]
     },
     "execution_count": 47,
     "metadata": {},
     "output_type": "execute_result"
    }
   ],
   "source": [
    "Mention_a_few_built_in_functions_in_python"
   ]
  },
  {
   "cell_type": "code",
   "execution_count": 49,
   "id": "7306db0e-40fb-4e9d-ac2e-34096094016d",
   "metadata": {},
   "outputs": [
    {
     "data": {
      "text/plain": [
       "'79 characters'"
      ]
     },
     "execution_count": 49,
     "metadata": {},
     "output_type": "execute_result"
    }
   ],
   "source": [
    "What_is_the_maximum_possible_length_of_an_identifier_in_Python"
   ]
  },
  {
   "cell_type": "code",
   "execution_count": 51,
   "id": "08713bea-615c-4313-878e-acf1c263855c",
   "metadata": {},
   "outputs": [
    {
     "data": {
      "text/plain": [
       "('data science',\n",
       " 'web development',\n",
       " 'Finance and Trading',\n",
       " 'Basic Game Development',\n",
       " 'ETC')"
      ]
     },
     "execution_count": 51,
     "metadata": {},
     "output_type": "execute_result"
    }
   ],
   "source": [
    "What_are_the_benefits_of_using_Python"
   ]
  },
  {
   "cell_type": "code",
   "execution_count": 53,
   "id": "ba60beca-ced5-4b38-9036-e1d8768a8381",
   "metadata": {},
   "outputs": [
    {
     "data": {
      "text/plain": [
       "'Memory management in Python involves a private heap containing all Python objects and datastructures. The management of this private heap is ensured internally by the Python memory manager'"
      ]
     },
     "execution_count": 53,
     "metadata": {},
     "output_type": "execute_result"
    }
   ],
   "source": [
    "How_is_memory_managed_in_Python"
   ]
  },
  {
   "cell_type": "code",
   "execution_count": 55,
   "id": "fbb0bdda-9672-43fa-a847-7691736a20ad",
   "metadata": {},
   "outputs": [
    {
     "data": {
      "text/plain": [
       "('Step 1 - Right clicking This PC and going to Properties',\n",
       " 'Step 2 - Clicking on the Advanced system settings in the menu on the left',\n",
       " 'Step 3 - Clicking on the Environment Variables button on the bottom right',\n",
       " 'Step 4 - In the System variables section, selecting the Path variable and clicking on Edit. The next screen will',\n",
       " 'Step 5 - Clicking on New and entering Python’s install directory')"
      ]
     },
     "execution_count": 55,
     "metadata": {},
     "output_type": "execute_result"
    }
   ],
   "source": [
    "How_to_install_Python_on_Windows_and_set_path_variables"
   ]
  },
  {
   "cell_type": "code",
   "execution_count": null,
   "id": "7f21ce35-9ae0-4c5c-a6d9-e4d803166615",
   "metadata": {},
   "outputs": [],
   "source": []
  }
 ],
 "metadata": {
  "kernelspec": {
   "display_name": "Python 3 (ipykernel)",
   "language": "python",
   "name": "python3"
  },
  "language_info": {
   "codemirror_mode": {
    "name": "ipython",
    "version": 3
   },
   "file_extension": ".py",
   "mimetype": "text/x-python",
   "name": "python",
   "nbconvert_exporter": "python",
   "pygments_lexer": "ipython3",
   "version": "3.10.8"
  }
 },
 "nbformat": 4,
 "nbformat_minor": 5
}
